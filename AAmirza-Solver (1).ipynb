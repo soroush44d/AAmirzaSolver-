{
 "cells": [
  {
   "cell_type": "code",
   "execution_count": 1,
   "id": "a1fb75a4",
   "metadata": {},
   "outputs": [
    {
     "data": {
      "text/html": [
       "<div>\n",
       "<style scoped>\n",
       "    .dataframe tbody tr th:only-of-type {\n",
       "        vertical-align: middle;\n",
       "    }\n",
       "\n",
       "    .dataframe tbody tr th {\n",
       "        vertical-align: top;\n",
       "    }\n",
       "\n",
       "    .dataframe thead th {\n",
       "        text-align: right;\n",
       "    }\n",
       "</style>\n",
       "<table border=\"1\" class=\"dataframe\">\n",
       "  <thead>\n",
       "    <tr style=\"text-align: right;\">\n",
       "      <th></th>\n",
       "      <th>EnglishWord</th>\n",
       "      <th>PersianWord</th>\n",
       "    </tr>\n",
       "  </thead>\n",
       "  <tbody>\n",
       "    <tr>\n",
       "      <th>0</th>\n",
       "      <td>a few</td>\n",
       "      <td>کمي</td>\n",
       "    </tr>\n",
       "    <tr>\n",
       "      <th>1</th>\n",
       "      <td>a great deal of</td>\n",
       "      <td>يک دنيا</td>\n",
       "    </tr>\n",
       "    <tr>\n",
       "      <th>2</th>\n",
       "      <td>a handful</td>\n",
       "      <td>يک مشت</td>\n",
       "    </tr>\n",
       "    <tr>\n",
       "      <th>3</th>\n",
       "      <td>a la garconne</td>\n",
       "      <td>آلاگارسن</td>\n",
       "    </tr>\n",
       "    <tr>\n",
       "      <th>4</th>\n",
       "      <td>a little</td>\n",
       "      <td>اندکي</td>\n",
       "    </tr>\n",
       "  </tbody>\n",
       "</table>\n",
       "</div>"
      ],
      "text/plain": [
       "       EnglishWord PersianWord\n",
       "0            a few         کمي\n",
       "1  a great deal of     يک دنيا\n",
       "2        a handful      يک مشت\n",
       "3    a la garconne    آلاگارسن\n",
       "4         a little       اندکي"
      ]
     },
     "execution_count": 1,
     "metadata": {},
     "output_type": "execute_result"
    }
   ],
   "source": [
    "from itertools import permutations\n",
    "import arabic_reshaper\n",
    "from bidi.algorithm import get_display\n",
    "import pandas as pd\n",
    "\n",
    "def convert(text):\n",
    "    reshaped_text = arabic_reshaper.reshape(text)\n",
    "    converted = get_display(reshaped_text)\n",
    "    return converted\n",
    "\n",
    "def words(letters):\n",
    "    for n in range(1, len(letters)+1):\n",
    "        yield from map(''.join, permutations(letters, n))\n",
    "\n",
    "\n",
    "def find_all_com(user_input):\n",
    "    final_words = []\n",
    "    for word in words(user_input):\n",
    "        if len(word)>2:\n",
    "            final_words.append(word)\n",
    "    \n",
    "    return final_words\n",
    "\n",
    "\n",
    "df = pd.read_excel('dataset.xlsx')\n",
    "df.head()\n",
    "\n"
   ]
  },
  {
   "cell_type": "code",
   "execution_count": 23,
   "id": "d263cee9",
   "metadata": {},
   "outputs": [
    {
     "name": "stdout",
     "output_type": "stream",
     "text": [
      "1920\n"
     ]
    }
   ],
   "source": [
    "user_input = 'شارکتم'\n",
    "candidate_words = find_all_com(user_input)\n",
    "valid_words = []\n",
    "print(len(candidate_words))\n",
    "\n"
   ]
  },
  {
   "cell_type": "code",
   "execution_count": 24,
   "id": "b9f524af",
   "metadata": {},
   "outputs": [
    {
     "name": "stdout",
     "output_type": "stream",
     "text": [
      "شام|Damascus\n",
      "شرم|modesty\n",
      "شکر|sugar\n",
      "شکم|abdomen\n",
      "شتا|winter\n",
      "شتر|camel\n",
      "شتم|curse\n",
      "شما|you\n",
      "شمر|Shemr\n",
      "اشک|tear\n",
      "ارش|forearm\n",
      "ارک|citadel\n",
      "ارم|earthly paradise\n",
      "اتر|ether\n",
      "اتم|atom\n",
      "امر|affair\n",
      "امت|nation\n",
      "رشا|rope\n",
      "رشک|envy\n",
      "رشت|Rasht\n",
      "رام|tame\n",
      "کاش|I wish\n",
      "کار|job\n",
      "کام|aim\n",
      "کرم|chrome\n",
      "کمر|waist\n",
      "تشر|waff\n",
      "تشک|mattress\n",
      "تار|cord\n",
      "تاک|vine\n",
      "تام|complete\n",
      "ترش|sour\n",
      "ترا|you\n",
      "ترک|abandonment\n",
      "تکش|attack\n",
      "تمر|tamarind\n",
      "مشک|leathern bottle\n",
      "مشت|blow with the fist\n",
      "ماش|grass pea\n",
      "مار|snake\n",
      "ماک|colostrum\n",
      "مات|opaque\n",
      "مرا|me\n",
      "مکش|suction\n",
      "مکر|deceit\n",
      "متر|meter\n",
      "شاکر|thankful\n",
      "شامت|inauspiciousness\n",
      "شرکت|company\n",
      "شکار|hunt\n",
      "شمار|number\n",
      "اشتر|camel\n",
      "ارتش|military\n",
      "ارمک|grey cloth\n",
      "اکرم|Akram\n",
      "راکت|racket\n",
      "رامش|Ramesh\n",
      "کارت|card\n",
      "کرات|spheres\n",
      "کرام|generous\n",
      "کمتر|less\n",
      "تشکر|thanking\n",
      "تارک|vertice\n",
      "ترشک|sorrel\n",
      "تراش|shave\n",
      "تراک|crack\n",
      "ترکش|quiver\n",
      "تمشک|raspberry\n",
      "مشار|agonistic\n",
      "مشرک|dualist\n",
      "ماشک|chalazion\n",
      "مارش|marching\n",
      "مارک|brand\n",
      "ماکت|sample\n",
      "مراش|vomiting\n",
      "مرات|occasions\n",
      "مکار|cunning\n",
      "متار|regretful\n",
      "متکا|pillow\n",
      "شراکت|partnership\n",
      "کشتار|slaughter\n",
      "کرامت|generosity\n",
      "تارکش|harness\n",
      "تراکم|accumulation\n",
      "مشکات|lamp\n",
      "مشترک|joint\n",
      "ماترک|estate\n",
      "مراکش|Morocco\n",
      "متشکر|grateful\n",
      "مشارکت|cooperation\n",
      "مشترکا|jointly\n"
     ]
    }
   ],
   "source": [
    "for word in candidate_words:\n",
    "    value = df[df['PersianWord']==word].values\n",
    "    if len(value)>0:\n",
    "        accepted_word = value[0][1]+'|'+str(value[0][0])\n",
    "        valid_words.append(accepted_word)\n",
    "        print(accepted_word)\n",
    "    "
   ]
  },
  {
   "cell_type": "code",
   "execution_count": 25,
   "id": "fd6711fd",
   "metadata": {},
   "outputs": [
    {
     "name": "stdout",
     "output_type": "stream",
     "text": [
      "['شام|Damascus', 'شرم|modesty', 'شکر|sugar', 'شکم|abdomen', 'شتا|winter', 'شتر|camel', 'شتم|curse', 'شما|you', 'شمر|Shemr', 'اشک|tear', 'ارش|forearm', 'ارک|citadel', 'ارم|earthly paradise', 'اتر|ether', 'اتم|atom', 'امر|affair', 'امت|nation', 'رشا|rope', 'رشک|envy', 'رشت|Rasht', 'رام|tame', 'کاش|I wish', 'کار|job', 'کام|aim', 'کرم|chrome', 'کمر|waist', 'تشر|waff', 'تشک|mattress', 'تار|cord', 'تاک|vine', 'تام|complete', 'ترش|sour', 'ترا|you', 'ترک|abandonment', 'تکش|attack', 'تمر|tamarind', 'مشک|leathern bottle', 'مشت|blow with the fist', 'ماش|grass pea', 'مار|snake', 'ماک|colostrum', 'مات|opaque', 'مرا|me', 'مکش|suction', 'مکر|deceit', 'متر|meter', 'شاکر|thankful', 'شامت|inauspiciousness', 'شرکت|company', 'شکار|hunt', 'شمار|number', 'اشتر|camel', 'ارتش|military', 'ارمک|grey cloth', 'اکرم|Akram', 'راکت|racket', 'رامش|Ramesh', 'کارت|card', 'کرات|spheres', 'کرام|generous', 'کمتر|less', 'تشکر|thanking', 'تارک|vertice', 'ترشک|sorrel', 'تراش|shave', 'تراک|crack', 'ترکش|quiver', 'تمشک|raspberry', 'مشار|agonistic', 'مشرک|dualist', 'ماشک|chalazion', 'مارش|marching', 'مارک|brand', 'ماکت|sample', 'مراش|vomiting', 'مرات|occasions', 'مکار|cunning', 'متار|regretful', 'متکا|pillow', 'شراکت|partnership', 'کشتار|slaughter', 'کرامت|generosity', 'تارکش|harness', 'تراکم|accumulation', 'مشکات|lamp', 'مشترک|joint', 'ماترک|estate', 'مراکش|Morocco', 'متشکر|grateful', 'مشارکت|cooperation', 'مشترکا|jointly']\n"
     ]
    }
   ],
   "source": [
    "\n",
    "print(valid_words)\n"
   ]
  }
 ],
 "metadata": {
  "kernelspec": {
   "display_name": "Python 3 (ipykernel)",
   "language": "python",
   "name": "python3"
  },
  "language_info": {
   "codemirror_mode": {
    "name": "ipython",
    "version": 3
   },
   "file_extension": ".py",
   "mimetype": "text/x-python",
   "name": "python",
   "nbconvert_exporter": "python",
   "pygments_lexer": "ipython3",
   "version": "3.11.0"
  }
 },
 "nbformat": 4,
 "nbformat_minor": 5
}
