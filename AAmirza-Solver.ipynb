{
 "cells": [
  {
   "cell_type": "code",
   "execution_count": 88,
   "id": "a1fb75a4",
   "metadata": {},
   "outputs": [
    {
     "data": {
      "text/html": [
       "<div>\n",
       "<style scoped>\n",
       "    .dataframe tbody tr th:only-of-type {\n",
       "        vertical-align: middle;\n",
       "    }\n",
       "\n",
       "    .dataframe tbody tr th {\n",
       "        vertical-align: top;\n",
       "    }\n",
       "\n",
       "    .dataframe thead th {\n",
       "        text-align: right;\n",
       "    }\n",
       "</style>\n",
       "<table border=\"1\" class=\"dataframe\">\n",
       "  <thead>\n",
       "    <tr style=\"text-align: right;\">\n",
       "      <th></th>\n",
       "      <th>EnglishWord</th>\n",
       "      <th>PersianWord</th>\n",
       "    </tr>\n",
       "  </thead>\n",
       "  <tbody>\n",
       "    <tr>\n",
       "      <th>0</th>\n",
       "      <td>a few</td>\n",
       "      <td>کمي</td>\n",
       "    </tr>\n",
       "    <tr>\n",
       "      <th>1</th>\n",
       "      <td>a great deal of</td>\n",
       "      <td>يک دنيا</td>\n",
       "    </tr>\n",
       "    <tr>\n",
       "      <th>2</th>\n",
       "      <td>a handful</td>\n",
       "      <td>يک مشت</td>\n",
       "    </tr>\n",
       "    <tr>\n",
       "      <th>3</th>\n",
       "      <td>a la garconne</td>\n",
       "      <td>آلاگارسن</td>\n",
       "    </tr>\n",
       "    <tr>\n",
       "      <th>4</th>\n",
       "      <td>a little</td>\n",
       "      <td>اندکي</td>\n",
       "    </tr>\n",
       "  </tbody>\n",
       "</table>\n",
       "</div>"
      ],
      "text/plain": [
       "       EnglishWord PersianWord\n",
       "0            a few         کمي\n",
       "1  a great deal of     يک دنيا\n",
       "2        a handful      يک مشت\n",
       "3    a la garconne    آلاگارسن\n",
       "4         a little       اندکي"
      ]
     },
     "execution_count": 88,
     "metadata": {},
     "output_type": "execute_result"
    }
   ],
   "source": [
    "from itertools import permutations\n",
    "import arabic_reshaper\n",
    "from bidi.algorithm import get_display\n",
    "import pandas as pd\n",
    "\n",
    "def convert(text):\n",
    "    reshaped_text = arabic_reshaper.reshape(text)\n",
    "    converted = get_display(reshaped_text)\n",
    "    return converted\n",
    "\n",
    "def words(letters):\n",
    "    for n in range(1, len(letters)+1):\n",
    "        yield from map(''.join, permutations(letters, n))\n",
    "\n",
    "\n",
    "def find_all_com(user_input):\n",
    "    final_words = []\n",
    "    for word in words(user_input):\n",
    "        if len(word)>2:\n",
    "            final_words.append(word)\n",
    "    \n",
    "    return final_words\n",
    "\n",
    "\n",
    "df = pd.read_excel('dataset.xlsx')\n",
    "df.head()\n",
    "\n"
   ]
  },
  {
   "cell_type": "code",
   "execution_count": 135,
   "id": "d263cee9",
   "metadata": {},
   "outputs": [
    {
     "name": "stdout",
     "output_type": "stream",
     "text": [
      "1920\n"
     ]
    }
   ],
   "source": [
    "user_input = 'تیدقان'\n",
    "candidate_words = find_all_com(user_input)\n",
    "valid_words = []\n",
    "print(len(candidate_words))\n",
    "\n"
   ]
  },
  {
   "cell_type": "code",
   "execution_count": 136,
   "id": "b9f524af",
   "metadata": {},
   "outputs": [
    {
     "name": "stdout",
     "output_type": "stream",
     "text": [
      "تاق|arch\n",
      "تند|abrubtly\n",
      "دقت|accuracy\n",
      "دان|grain\n",
      "قند|sugar cube\n",
      "ندا|Neda\n",
      "نقد|cash\n",
      "نقدا|for the time being\n",
      "نقاد|critic\n"
     ]
    }
   ],
   "source": [
    "for word in candidate_words:\n",
    "    value = df[df['PersianWord']==word].values\n",
    "    if len(value)>0:\n",
    "        accepted_word = value[0][1]+'|'+str(value[0][0])\n",
    "        valid_words.append(accepted_word)\n",
    "        print(accepted_word)\n",
    "    "
   ]
  },
  {
   "cell_type": "code",
   "execution_count": 132,
   "id": "fd6711fd",
   "metadata": {},
   "outputs": [
    {
     "name": "stdout",
     "output_type": "stream",
     "text": [
      "[]\n"
     ]
    }
   ],
   "source": [
    "\n",
    "print(valid_words)\n"
   ]
  }
 ],
 "metadata": {
  "kernelspec": {
   "display_name": "Python 3 (ipykernel)",
   "language": "python",
   "name": "python3"
  },
  "language_info": {
   "codemirror_mode": {
    "name": "ipython",
    "version": 3
   },
   "file_extension": ".py",
   "mimetype": "text/x-python",
   "name": "python",
   "nbconvert_exporter": "python",
   "pygments_lexer": "ipython3",
   "version": "3.11.0"
  }
 },
 "nbformat": 4,
 "nbformat_minor": 5
}
